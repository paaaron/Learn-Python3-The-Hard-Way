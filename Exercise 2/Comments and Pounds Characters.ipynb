{
 "cells": [
  {
   "cell_type": "code",
   "execution_count": 2,
   "metadata": {
    "ExecuteTime": {
     "end_time": "2021-06-23T18:07:40.109617Z",
     "start_time": "2021-06-23T18:07:40.098760Z"
    }
   },
   "outputs": [
    {
     "name": "stdout",
     "output_type": "stream",
     "text": [
      "I could hace code like this.\n",
      "This will run\n"
     ]
    }
   ],
   "source": [
    "#A comment. this is so you can read your program later.\n",
    "#Anything afther the # is ignored by python.\n",
    "\n",
    "print(\"I could hace code like this.\") #and the commen after is ignored\n",
    "\n",
    "#You can also use a comment to \"disable\" or comment our code:\n",
    "#print(\"This won't run.\")\n",
    "\n",
    "print(\"This will run\")"
   ]
  }
 ],
 "metadata": {
  "kernelspec": {
   "display_name": "Python 3",
   "language": "python",
   "name": "python3"
  },
  "language_info": {
   "codemirror_mode": {
    "name": "ipython",
    "version": 3
   },
   "file_extension": ".py",
   "mimetype": "text/x-python",
   "name": "python",
   "nbconvert_exporter": "python",
   "pygments_lexer": "ipython3",
   "version": "3.6.9"
  }
 },
 "nbformat": 4,
 "nbformat_minor": 2
}
